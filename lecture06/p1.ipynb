{
 "cells": [
  {
   "cell_type": "code",
   "execution_count": 5,
   "id": "0da2910e",
   "metadata": {},
   "outputs": [
    {
     "name": "stderr",
     "output_type": "stream",
     "text": [
      "100.0%\n",
      "100.0%\n",
      "100.0%\n",
      "100.0%\n"
     ]
    },
    {
     "name": "stdout",
     "output_type": "stream",
     "text": [
      "Epoch 1, Loss: 0.2034208999057092\n",
      "Epoch 2, Loss: 0.08611469176798456\n",
      "Epoch 3, Loss: 0.06271875620326166\n",
      "Epoch 4, Loss: 0.04597188683158692\n",
      "Epoch 5, Loss: 0.03903416588416334\n",
      "Epoch 6, Loss: 0.030248904940242797\n",
      "Epoch 7, Loss: 0.027987974856265953\n",
      "Epoch 8, Loss: 0.023150155505081708\n",
      "Epoch 9, Loss: 0.023157712459788198\n",
      "Epoch 10, Loss: 0.02203095800786556\n",
      "tensor([[4.4491e-20, 2.1272e-19, 2.2125e-20, 5.2551e-11, 1.6229e-20, 1.0000e+00,\n",
      "         8.8830e-14, 6.8293e-21, 9.6676e-15, 1.8369e-11]])\n"
     ]
    }
   ],
   "source": [
    "import torch\n",
    "import torch.nn as nn\n",
    "import torch.optim as optim\n",
    "from torchvision import datasets, transforms\n",
    "from torch.utils.data import DataLoader\n",
    "from PIL import Image\n",
    "\n",
    "transform = transforms.Compose([transforms.Resize(\n",
    "    (28, 28)), transforms. ToTensor(), transforms.Normalize((0.1307,), (0.3081,))])\n",
    "\n",
    "\n",
    "train_ds = datasets.MNIST(root='data', train=True,\n",
    "                          download=True, transform=transform)\n",
    "test_ds = datasets.MNIST(root='data', train=False,\n",
    "                         download=True, transform=transform)\n",
    "\n",
    "train_loader = DataLoader(train_ds, batch_size=64, shuffle=True)\n",
    "test_loader = DataLoader(test_ds, batch_size=1000, shuffle=False)\n",
    "\n",
    "\n",
    "class myModel(nn.Module):\n",
    "    def __init__(self):\n",
    "        super().__init__()\n",
    "        self.model = nn.Sequential(\n",
    "            nn.Flatten(),\n",
    "            nn.Linear(28*28, 512),\n",
    "            nn.ReLU(),\n",
    "            nn.Linear(512, 256),\n",
    "            nn.ReLU(),\n",
    "            nn.Linear(256, 10)\n",
    "        )\n",
    "\n",
    "    def forward(self, x):\n",
    "        return self.model(x)\n",
    "\n",
    "\n",
    "model = myModel()\n",
    "\n",
    "loss_fn = nn.CrossEntropyLoss()\n",
    "optimizer = optim.Adam(model.parameters(), lr=1e-3)\n",
    "\n",
    "epochs = 10\n",
    "for epoch in range(1, epochs+1):\n",
    "    model.train()\n",
    "    total_loss = 0\n",
    "    for images, labels in train_loader:\n",
    "        optimizer.zero_grad()\n",
    "        outputs = model(images)\n",
    "        loss = loss_fn(outputs, labels)\n",
    "        loss.backward()\n",
    "        optimizer.step()\n",
    "\n",
    "        total_loss += loss.item()\n",
    "\n",
    "    print(f\"Epoch {epoch}, Loss: {total_loss/len(train_loader)}\")\n",
    "\n",
    "img = Image.open('numberImage.png').convert('L')\n",
    "to_tensor = transforms.Compose([transforms.Resize(\n",
    "    (28, 28)), transforms.ToTensor(), transforms.Normalize((0.1307,), (0.3081,))])\n",
    "\n",
    "model.eval()\n",
    "x = to_tensor(img).unsqueeze(0)\n",
    "with torch.no_grad():\n",
    "    logits = model(x)\n",
    "    probs = nn.functional.softmax(logits, dim=1)\n",
    "\n",
    "print(probs)"
   ]
  }
 ],
 "metadata": {
  "kernelspec": {
   "display_name": "myenv",
   "language": "python",
   "name": "python3"
  },
  "language_info": {
   "codemirror_mode": {
    "name": "ipython",
    "version": 3
   },
   "file_extension": ".py",
   "mimetype": "text/x-python",
   "name": "python",
   "nbconvert_exporter": "python",
   "pygments_lexer": "ipython3",
   "version": "3.10.16"
  }
 },
 "nbformat": 4,
 "nbformat_minor": 5
}
