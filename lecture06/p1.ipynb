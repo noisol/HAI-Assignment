{
 "cells": [
  {
   "cell_type": "code",
   "execution_count": 1,
   "id": "0da2910e",
   "metadata": {},
   "outputs": [
    {
     "name": "stderr",
     "output_type": "stream",
     "text": [
      "100.0%\n",
      "100.0%\n",
      "100.0%\n",
      "100.0%\n"
     ]
    },
    {
     "name": "stdout",
     "output_type": "stream",
     "text": [
      "Epoch 1, Loss: 0.20626770769025504\n",
      "Epoch 2, Loss: 0.08674897376978115\n",
      "Epoch 3, Loss: 0.061757931340315035\n",
      "Epoch 4, Loss: 0.0486140913185244\n",
      "Epoch 5, Loss: 0.039654447174226955\n",
      "Epoch 6, Loss: 0.030454835446148333\n",
      "Epoch 7, Loss: 0.02698653945141304\n",
      "Epoch 8, Loss: 0.02929086590769723\n",
      "Epoch 9, Loss: 0.019868090952597128\n",
      "Epoch 10, Loss: 0.020493610146532486\n",
      "tensor([[2.0219e-18, 4.3312e-12, 3.5425e-13, 6.4125e-08, 1.9287e-12, 1.0000e+00,\n",
      "         5.5543e-13, 6.6877e-15, 1.1982e-12, 2.2407e-07]])\n"
     ]
    }
   ],
   "source": [
    "import torch\n",
    "import torch.nn as nn\n",
    "import torch.optim as optim\n",
    "from torchvision import datasets, transforms\n",
    "from torch.utils.data import DataLoader\n",
    "from PIL import Image\n",
    "\n",
    "transform = transforms.Compose([transforms.Resize(\n",
    "    (28, 28)), transforms. ToTensor(), transforms.Normalize((0.1307,), (0.3081,))])\n",
    "\n",
    "\n",
    "train_ds = datasets.MNIST(root='data', train=True,\n",
    "                          download=True, transform=transform)\n",
    "test_ds = datasets.MNIST(root='data', train=False,\n",
    "                         download=True, transform=transform)\n",
    "\n",
    "train_loader = DataLoader(train_ds, batch_size=64, shuffle=True)\n",
    "test_loader = DataLoader(test_ds, batch_size=1000, shuffle=False)\n",
    "\n",
    "\n",
    "class myModel(nn.Module):\n",
    "    def __init__(self):\n",
    "        super().__init__()\n",
    "        self.model = nn.Sequential(\n",
    "            nn.Flatten(),\n",
    "            nn.Linear(28*28, 512),\n",
    "            nn.ReLU(),\n",
    "            nn.Linear(512, 256),\n",
    "            nn.ReLU(),\n",
    "            nn.Linear(256, 10)\n",
    "        )\n",
    "\n",
    "    def forward(self, x):\n",
    "        return self.model(x)\n",
    "\n",
    "\n",
    "model = myModel()\n",
    "\n",
    "loss_fn = nn.CrossEntropyLoss()\n",
    "optimizer = optim.Adam(model.parameters(), lr=1e-3)\n",
    "\n",
    "epochs = 10\n",
    "for epoch in range(1, epochs+1):\n",
    "    model.train()\n",
    "    total_loss = 0\n",
    "    for images, labels in train_loader:\n",
    "        optimizer.zero_grad()\n",
    "        outputs = model(images)\n",
    "        loss = loss_fn(outputs, labels)\n",
    "        loss.backward()\n",
    "        optimizer.step()\n",
    "\n",
    "        total_loss += loss.item()\n",
    "\n",
    "    print(f\"Epoch {epoch}, Loss: {total_loss/len(train_loader)}\")\n",
    "\n",
    "img = Image.open('numberImage.png').convert('L')\n",
    "to_tensor = transforms.Compose([transforms.Resize(\n",
    "    (28, 28)), transforms.ToTensor(), transforms.Normalize((0.1307,), (0.3081,))])\n",
    "\n",
    "model.eval()\n",
    "x = to_tensor(img).unsqueeze(0)\n",
    "with torch.no_grad():\n",
    "    logits = model(x)\n",
    "    probs = nn.functional.softmax(logits, dim=1)\n",
    "\n",
    "print(probs)"
   ]
  }
 ],
 "metadata": {
  "kernelspec": {
   "display_name": "myenv",
   "language": "python",
   "name": "python3"
  },
  "language_info": {
   "codemirror_mode": {
    "name": "ipython",
    "version": 3
   },
   "file_extension": ".py",
   "mimetype": "text/x-python",
   "name": "python",
   "nbconvert_exporter": "python",
   "pygments_lexer": "ipython3",
   "version": "3.10.16"
  }
 },
 "nbformat": 4,
 "nbformat_minor": 5
}
