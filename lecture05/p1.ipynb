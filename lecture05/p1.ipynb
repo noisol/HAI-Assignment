{
 "cells": [
  {
   "cell_type": "code",
   "execution_count": 1,
   "id": "5165e155",
   "metadata": {},
   "outputs": [
    {
     "ename": "",
     "evalue": "",
     "output_type": "error",
     "traceback": [
      "\u001b[1;31mThe Kernel crashed while executing code in the current cell or a previous cell. \n",
      "\u001b[1;31mPlease review the code in the cell(s) to identify a possible cause of the failure. \n",
      "\u001b[1;31mClick <a href='https://aka.ms/vscodeJupyterKernelCrash'>here</a> for more info. \n",
      "\u001b[1;31mView Jupyter <a href='command:jupyter.viewOutput'>log</a> for further details."
     ]
    }
   ],
   "source": [
    "from PIL import Image\n",
    "import torch\n",
    "from torchvision import transforms\n",
    "import matplotlib.pyplot as plt\n",
    "\n",
    "image1 = Image.open(\"image1.jpg\")\n",
    "image2 = Image.open(\"image2.jpg\")\n",
    "\n",
    "transform = transforms.ToTensor()\n",
    "\n",
    "image_tensor1 = transform(image1)\n",
    "image_tensor2 = transform(image2)\n",
    "\n",
    "plt.imshow(image_tensor1.permute(1, 2, 0))\n",
    "plt.show()\n",
    "plt.imshow(image_tensor2.permute(1, 2, 0))\n",
    "plt.show()\n",
    "\n",
    "print(image_tensor1.shape)\n",
    "print(image_tensor1.dtype)\n",
    "print(image_tensor2.shape)\n",
    "print(image_tensor2.dtype)\n",
    "\n",
    "res1 = image_tensor1 + image_tensor2\n",
    "\n",
    "plt.imshow(res1.permute(1, 2, 0))\n",
    "plt.show()\n",
    "\n",
    "res2 = image_tensor1.matmul(image_tensor2.permute(0, 2, 1))\n",
    "\n",
    "print(f\"the matrix multiplication of image1 and image2 is \\n{res2}\")\n"
   ]
  },
  {
   "cell_type": "code",
   "execution_count": null,
   "id": "b210a921",
   "metadata": {},
   "outputs": [],
   "source": []
  }
 ],
 "metadata": {
  "kernelspec": {
   "display_name": "myenv",
   "language": "python",
   "name": "python3"
  },
  "language_info": {
   "codemirror_mode": {
    "name": "ipython",
    "version": 3
   },
   "file_extension": ".py",
   "mimetype": "text/x-python",
   "name": "python",
   "nbconvert_exporter": "python",
   "pygments_lexer": "ipython3",
   "version": "3.10.16"
  }
 },
 "nbformat": 4,
 "nbformat_minor": 5
}
